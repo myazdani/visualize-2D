{
 "cells": [
  {
   "cell_type": "code",
   "execution_count": 2,
   "metadata": {
    "collapsed": false
   },
   "outputs": [
    {
     "name": "stdout",
     "output_type": "stream",
     "text": [
      "Populating the interactive namespace from numpy and matplotlib\n"
     ]
    },
    {
     "name": "stderr",
     "output_type": "stream",
     "text": [
      "WARNING: pylab import has clobbered these variables: ['resize', 'linalg', 'draw_if_interactive', 'random', 'power', 'info', 'fft']\n",
      "`%matplotlib` prevents importing * from pylab and numpy\n"
     ]
    }
   ],
   "source": [
    "import os\n",
    "from pylab import *\n",
    "from sklearn import (manifold, datasets, decomposition, ensemble, lda,\n",
    "                     random_projection)\n",
    "from skimage.feature import hog\n",
    "from skimage.filters import gaussian_filter\n",
    "from skimage import color\n",
    "from scipy import misc\n",
    "from skimage.transform import resize\n",
    "from sklearn.decomposition import PCA\n",
    "from sklearn.cluster import KMeans\n",
    "import pandas as pd\n",
    "\n",
    "%pylab inline"
   ]
  },
  {
   "cell_type": "markdown",
   "metadata": {},
   "source": [
    "## Specify image (source) path and feature write (target) path"
   ]
  },
  {
   "cell_type": "code",
   "execution_count": 4,
   "metadata": {
    "collapsed": false
   },
   "outputs": [],
   "source": [
    "#src_path = \"/Users/jaja/Documents/SD-digital-globe-slices/slices/\"\n",
    "src_path = \"/Users/myazdaniUCSD/Documents/paintings/ROTHKO_MONDRIAN/Rothko_Mondrian_Complete image sets/Rothko_images/\"\n",
    "\n",
    "target_path = \"../features/\"\n",
    "if not os.path.exists(target_path):\n",
    "    os.makedirs(target_path)"
   ]
  },
  {
   "cell_type": "code",
   "execution_count": null,
   "metadata": {
    "collapsed": false
   },
   "outputs": [],
   "source": []
  },
  {
   "cell_type": "code",
   "execution_count": 2,
   "metadata": {
    "collapsed": false
   },
   "outputs": [],
   "source": [
    "image_type = (\".png\", \".jpg\", \".JPG\", \".jpeg\", \".PNG\")\n",
    " \n",
    "image_paths = []  \n",
    "for root, dirs, files in os.walk(src_path):\n",
    "    image_paths.extend([os.path.join(root, f) for f in files if f.endswith(image_type)])"
   ]
  },
  {
   "cell_type": "code",
   "execution_count": 3,
   "metadata": {
    "collapsed": true
   },
   "outputs": [],
   "source": [
    "# def return_HOG(img_path):\n",
    "#     img = misc.imread(img_path)\n",
    "#     hogs = []\n",
    "#     for i in range(3):\n",
    "#         img_c = misc.imresize(img[:,:,i], (80,100))\n",
    "#         hog_c = hog(img_c, orientations=16, pixels_per_cell=(2, 2),cells_per_block=(1, 1), visualise=False)\n",
    "#         hogs.extend(hog_c)\n",
    "#     return array(hogs)\n",
    "\n",
    "def return_HOG(img_path):\n",
    "    img = misc.imread(img_path)\n",
    "    new_img = misc.imresize(color.rgb2gray(img), (100,100))\n",
    "    return hog(gaussian_filter(new_img,.1), orientations=8, pixels_per_cell=(4, 4),cells_per_block=(1, 1), visualise=False)"
   ]
  },
  {
   "cell_type": "code",
   "execution_count": 4,
   "metadata": {
    "collapsed": true
   },
   "outputs": [],
   "source": [
    "def chunks(l, n):\n",
    "    \"\"\" Yield successive n-sized chunks from l.\n",
    "    \"\"\"\n",
    "    for i in xrange(0, len(l), n):\n",
    "        yield l[i:i+n]"
   ]
  },
  {
   "cell_type": "code",
   "execution_count": 5,
   "metadata": {
    "collapsed": true
   },
   "outputs": [],
   "source": [
    "image_paths_chunks = chunks(image_paths, 10000)"
   ]
  },
  {
   "cell_type": "code",
   "execution_count": 6,
   "metadata": {
    "collapsed": false
   },
   "outputs": [
    {
     "name": "stdout",
     "output_type": "stream",
     "text": [
      "working on chunk 0\n",
      "working on chunk 1\n",
      "working on chunk 2\n"
     ]
    }
   ],
   "source": [
    "for i, image_paths_chunk in enumerate(image_paths_chunks):\n",
    "    print \"working on chunk\", i\n",
    "    df = pd.DataFrame({\"image_paths\": array(image_paths_chunk)})\n",
    "    df[\"hogs\"] = df[\"image_paths\"].apply(lambda x: return_HOG(x))\n",
    "    df.to_pickle(\"../features/hogs_chunk\" + str(i) + \".pkl\")"
   ]
  },
  {
   "cell_type": "code",
   "execution_count": null,
   "metadata": {
    "collapsed": true
   },
   "outputs": [],
   "source": []
  }
 ],
 "metadata": {
  "kernelspec": {
   "display_name": "Python 2",
   "language": "python",
   "name": "python2"
  },
  "language_info": {
   "codemirror_mode": {
    "name": "ipython",
    "version": 2
   },
   "file_extension": ".py",
   "mimetype": "text/x-python",
   "name": "python",
   "nbconvert_exporter": "python",
   "pygments_lexer": "ipython2",
   "version": "2.7.10"
  }
 },
 "nbformat": 4,
 "nbformat_minor": 0
}
