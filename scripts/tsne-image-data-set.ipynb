{
 "cells": [
  {
   "cell_type": "code",
   "execution_count": 1,
   "metadata": {
    "collapsed": false
   },
   "outputs": [
    {
     "name": "stdout",
     "output_type": "stream",
     "text": [
      "Populating the interactive namespace from numpy and matplotlib\n"
     ]
    },
    {
     "name": "stderr",
     "output_type": "stream",
     "text": [
      "WARNING: pylab import has clobbered these variables: ['resize']\n",
      "`%matplotlib` prevents importing * from pylab and numpy\n"
     ]
    }
   ],
   "source": [
    "import os\n",
    "from time import time\n",
    "import numpy as np\n",
    "import matplotlib.pyplot as plt\n",
    "from matplotlib import offsetbox\n",
    "from sklearn import (manifold, datasets, decomposition, ensemble, lda,\n",
    "                     random_projection)\n",
    "\n",
    "from skimage.feature import hog\n",
    "from skimage import color\n",
    "from scipy import misc\n",
    "from skimage.transform import resize\n",
    "from sklearn.decomposition import PCA\n",
    "import pandas as pd\n",
    "\n",
    "%pylab inline"
   ]
  },
  {
   "cell_type": "code",
   "execution_count": 2,
   "metadata": {
    "collapsed": false
   },
   "outputs": [],
   "source": [
    "src_path, image_type = \"/Users/myazdaniUCSD/Desktop/PNAR/\", \".jpg\"\n",
    " \n",
    "image_paths = []  \n",
    "for root, dirs, files in os.walk(src_path):\n",
    "  image_paths.extend([os.path.join(root, f) for f in files if f.endswith(image_type)])"
   ]
  },
  {
   "cell_type": "code",
   "execution_count": 10,
   "metadata": {
    "collapsed": true
   },
   "outputs": [],
   "source": [
    "#def return_HOG(img_path):\n",
    "#    img = misc.imread(img_path)\n",
    "#    hogs = []\n",
    "#    for i in range(3):\n",
    "#        img_c = misc.imresize(img[:,:,i], (80,100))\n",
    "#        hog_c = hog(img_c, orientations=16, pixels_per_cell=(2, 2),cells_per_block=(1, 1), visualise=False)\n",
    "#        hogs.extend(hog_c)\n",
    "#    return array(hogs)\n",
    "\n",
    "def return_HOG(img_path):\n",
    "    img = misc.imread(img_path)\n",
    "    new_img = misc.imresize(color.rgb2gray(img), (80,100))\n",
    "    return hog(new_img, orientations=8, pixels_per_cell=(3, 3),cells_per_block=(1, 1), visualise=False)"
   ]
  },
  {
   "cell_type": "code",
   "execution_count": 11,
   "metadata": {
    "collapsed": false
   },
   "outputs": [],
   "source": [
    "image_features = [return_HOG(image_path) for image_path in image_paths]"
   ]
  },
  {
   "cell_type": "code",
   "execution_count": 12,
   "metadata": {
    "collapsed": false
   },
   "outputs": [],
   "source": [
    "data_features = pd.DataFrame({\"image.paths\" : image_paths})\n",
    "\n",
    "pca = PCA(n_components=50)\n",
    "X = pca.fit_transform(array(image_features))\n"
   ]
  },
  {
   "cell_type": "code",
   "execution_count": 13,
   "metadata": {
    "collapsed": true
   },
   "outputs": [],
   "source": [
    "\n",
    "tsne = manifold.TSNE(n_components=2, init='pca', random_state=0)\n",
    "t0 = time()\n",
    "X_tsne = tsne.fit_transform(X)"
   ]
  },
  {
   "cell_type": "code",
   "execution_count": 14,
   "metadata": {
    "collapsed": false
   },
   "outputs": [],
   "source": [
    "data_features[\"PCA.x.coord\"] = X[:,0]\n",
    "data_features[\"PCA.y.coord\"] = X[:,1]\n",
    "\n",
    "data_features[\"tsne.x.coord\"] = X_tsne[:,0]\n",
    "data_features[\"tsne.y.coord\"] = X_tsne[:,1]"
   ]
  },
  {
   "cell_type": "code",
   "execution_count": 15,
   "metadata": {
    "collapsed": false
   },
   "outputs": [],
   "source": [
    "data_features.to_csv(\"../results/PNAR-tsne-HOG-color.csv\", columns = [\"image.paths\", \"tsne.x.coord\", \"tsne.y.coord\"], index = False)"
   ]
  },
  {
   "cell_type": "code",
   "execution_count": null,
   "metadata": {
    "collapsed": true
   },
   "outputs": [],
   "source": []
  }
 ],
 "metadata": {
  "kernelspec": {
   "display_name": "Python 2",
   "language": "python",
   "name": "python2"
  },
  "language_info": {
   "codemirror_mode": {
    "name": "ipython",
    "version": 2
   },
   "file_extension": ".py",
   "mimetype": "text/x-python",
   "name": "python",
   "nbconvert_exporter": "python",
   "pygments_lexer": "ipython2",
   "version": "2.7.10"
  }
 },
 "nbformat": 4,
 "nbformat_minor": 0
}
