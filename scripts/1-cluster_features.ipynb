{
 "cells": [
  {
   "cell_type": "code",
   "execution_count": 1,
   "metadata": {
    "collapsed": false
   },
   "outputs": [],
   "source": [
    "import os\n",
    "from pylab import *\n",
    "from sklearn import (manifold, datasets, decomposition, ensemble, lda,\n",
    "                     random_projection)\n",
    "from skimage.feature import hog\n",
    "from skimage.filters import gaussian_filter\n",
    "from skimage import color\n",
    "from scipy import misc\n",
    "from skimage.transform import resize\n",
    "from sklearn.decomposition import PCA\n",
    "from sklearn.cluster import KMeans\n",
    "import pandas as pd\n",
    "import gc"
   ]
  },
  {
   "cell_type": "markdown",
   "metadata": {},
   "source": [
    "## Specify Number of Clusters"
   ]
  },
  {
   "cell_type": "code",
   "execution_count": 2,
   "metadata": {
    "collapsed": true
   },
   "outputs": [],
   "source": [
    "num_clusters = 10"
   ]
  },
  {
   "cell_type": "markdown",
   "metadata": {},
   "source": [
    "##Specify feature path"
   ]
  },
  {
   "cell_type": "code",
   "execution_count": 3,
   "metadata": {
    "collapsed": true
   },
   "outputs": [],
   "source": [
    "src_path = \"../features/\"\n",
    "file_type = \".pkl\"\n",
    "\n",
    "feature_paths = []  \n",
    "for root, dirs, files in os.walk(src_path):\n",
    "    feature_paths.extend([os.path.join(root, f) for f in files if f.endswith(file_type)])"
   ]
  },
  {
   "cell_type": "code",
   "execution_count": 4,
   "metadata": {
    "collapsed": false
   },
   "outputs": [
    {
     "data": {
      "text/plain": [
       "14"
      ]
     },
     "execution_count": 4,
     "metadata": {},
     "output_type": "execute_result"
    }
   ],
   "source": [
    "hog_features = pd.read_pickle(feature_paths[0])\n",
    "for feature_path in feature_paths[1:]:\n",
    "    hog_features_temp = pd.read_pickle(feature_path)\n",
    "    hog_features = pd.concat([hog_features, hog_features_temp])\n",
    "    del hog_features_temp\n",
    "gc.collect()"
   ]
  },
  {
   "cell_type": "code",
   "execution_count": 5,
   "metadata": {
    "collapsed": false
   },
   "outputs": [
    {
     "data": {
      "text/plain": [
       "(415, 5000)"
      ]
     },
     "execution_count": 5,
     "metadata": {},
     "output_type": "execute_result"
    }
   ],
   "source": [
    "image_features = array(list(hog_features[\"hogs\"]))\n",
    "image_features.shape"
   ]
  },
  {
   "cell_type": "markdown",
   "metadata": {},
   "source": [
    "# Reduce dimensions and apply clustering"
   ]
  },
  {
   "cell_type": "code",
   "execution_count": 6,
   "metadata": {
    "collapsed": false
   },
   "outputs": [],
   "source": [
    "pca = PCA(n_components=50)\n",
    "X = pca.fit_transform(array(image_features))"
   ]
  },
  {
   "cell_type": "code",
   "execution_count": 7,
   "metadata": {
    "collapsed": false
   },
   "outputs": [],
   "source": [
    "kmeans = KMeans(n_clusters = num_clusters, n_init = 100, n_jobs=1)\n",
    "kmeans.fit(X)\n",
    "clusters = kmeans.predict(X)\n",
    "clusters_space = kmeans.transform(X)"
   ]
  },
  {
   "cell_type": "code",
   "execution_count": 8,
   "metadata": {
    "collapsed": false
   },
   "outputs": [],
   "source": [
    "image_paths_hack = list(hog_features[\"image_paths\"])\n",
    "image_paths_rel = [image_path_hack.split(\"/\")[-2] + \"/\" + image_path_hack.split(\"/\")[-1] for image_path_hack in image_paths_hack]"
   ]
  },
  {
   "cell_type": "code",
   "execution_count": 9,
   "metadata": {
    "collapsed": false
   },
   "outputs": [],
   "source": [
    "res_df = pd.DataFrame({'file_names' : image_paths_rel})"
   ]
  },
  {
   "cell_type": "code",
   "execution_count": 10,
   "metadata": {
    "collapsed": false
   },
   "outputs": [],
   "source": [
    "res_df[\"clusters\"] = clusters\n",
    "#res_df = pd.concat([res_df, pd.DataFrame(clusters_space)], axis = 1)\n",
    "res_df[\"cluster_dist\"] = amin(clusters_space, axis = 1)"
   ]
  },
  {
   "cell_type": "code",
   "execution_count": 11,
   "metadata": {
    "collapsed": false
   },
   "outputs": [],
   "source": [
    "res_df.to_csv(\"../features/hogs_clusters.csv\", header = True, index = False)"
   ]
  },
  {
   "cell_type": "markdown",
   "metadata": {},
   "source": [
    "## Save cluster centroids (optional)"
   ]
  },
  {
   "cell_type": "code",
   "execution_count": 12,
   "metadata": {
    "collapsed": false
   },
   "outputs": [],
   "source": [
    "pd.DataFrame(kmeans.cluster_centers_).to_csv(\"../features/kmeans_centroids.csv\", header = True, index = False)"
   ]
  },
  {
   "cell_type": "code",
   "execution_count": null,
   "metadata": {
    "collapsed": true
   },
   "outputs": [],
   "source": []
  }
 ],
 "metadata": {
  "kernelspec": {
   "display_name": "Python 2",
   "language": "python",
   "name": "python2"
  },
  "language_info": {
   "codemirror_mode": {
    "name": "ipython",
    "version": 2
   },
   "file_extension": ".py",
   "mimetype": "text/x-python",
   "name": "python",
   "nbconvert_exporter": "python",
   "pygments_lexer": "ipython2",
   "version": "2.7.10"
  }
 },
 "nbformat": 4,
 "nbformat_minor": 0
}
