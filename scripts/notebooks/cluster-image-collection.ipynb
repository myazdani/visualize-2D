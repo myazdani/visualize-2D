{
 "cells": [
  {
   "cell_type": "code",
   "execution_count": null,
   "metadata": {
    "collapsed": false
   },
   "outputs": [],
   "source": [
    "import os\n",
    "from pylab import *\n",
    "from sklearn import (manifold, datasets, decomposition, ensemble, lda,\n",
    "                     random_projection)\n",
    "from skimage.feature import hog\n",
    "from skimage.filters import gaussian_filter\n",
    "from skimage import color\n",
    "from scipy import misc\n",
    "from skimage.transform import resize\n",
    "from sklearn.decomposition import PCA\n",
    "from sklearn.cluster import KMeans\n",
    "import pandas as pd\n",
    "\n",
    "%pylab inline"
   ]
  },
  {
   "cell_type": "code",
   "execution_count": null,
   "metadata": {
    "collapsed": false
   },
   "outputs": [],
   "source": [
    "src_path, image_type = \"/Users/jaja/Documents/SD-digital-globe-slices/slices/\", \".png\"\n",
    "#src_path = \"/Users/myazdaniUCSD/Documents/paintings/ROTHKO_MONDRIAN/Rothko_Mondrian_Complete image sets/Rothko_images/\"\n",
    " \n",
    "image_paths = []  \n",
    "for root, dirs, files in os.walk(src_path):\n",
    "    image_paths.extend([os.path.join(root, f) for f in files if f.endswith(image_type)])"
   ]
  },
  {
   "cell_type": "code",
   "execution_count": null,
   "metadata": {
    "collapsed": true
   },
   "outputs": [],
   "source": [
    "# def return_HOG(img_path):\n",
    "#     img = misc.imread(img_path)\n",
    "#     hogs = []\n",
    "#     for i in range(3):\n",
    "#         img_c = misc.imresize(img[:,:,i], (80,100))\n",
    "#         hog_c = hog(img_c, orientations=16, pixels_per_cell=(2, 2),cells_per_block=(1, 1), visualise=False)\n",
    "#         hogs.extend(hog_c)\n",
    "#     return array(hogs)\n",
    "\n",
    "def return_HOG(img_path):\n",
    "    img = misc.imread(img_path)\n",
    "    new_img = misc.imresize(color.rgb2gray(img), (100,100))\n",
    "    return hog(gaussian_filter(new_img,.1), orientations=8, pixels_per_cell=(4, 4),cells_per_block=(1, 1), visualise=False)"
   ]
  },
  {
   "cell_type": "code",
   "execution_count": null,
   "metadata": {
    "collapsed": false
   },
   "outputs": [],
   "source": [
    "image_features = [return_HOG(image_path) for image_path in image_paths]"
   ]
  },
  {
   "cell_type": "markdown",
   "metadata": {},
   "source": [
    "# Reduce dimensions and apply clustering"
   ]
  },
  {
   "cell_type": "code",
   "execution_count": null,
   "metadata": {
    "collapsed": false
   },
   "outputs": [],
   "source": [
    "pca = PCA(n_components=50)\n",
    "X = pca.fit_transform(array(image_features))"
   ]
  },
  {
   "cell_type": "code",
   "execution_count": null,
   "metadata": {
    "collapsed": false
   },
   "outputs": [],
   "source": [
    "num_clusters = 100\n",
    "kmeans = KMeans(n_clusters = num_clusters, n_init = 100)\n",
    "#kmeans = KMeans(n_clusters = num_clusters)\n",
    "clusters = kmeans.fit_predict(X)"
   ]
  },
  {
   "cell_type": "markdown",
   "metadata": {},
   "source": [
    "#Apply 1-D tsne on cluster centers"
   ]
  },
  {
   "cell_type": "code",
   "execution_count": null,
   "metadata": {
    "collapsed": false
   },
   "outputs": [],
   "source": [
    "tsne = manifold.TSNE(n_components=1, init='pca', random_state=0)\n",
    "cluster_tsne = tsne.fit_transform(kmeans.cluster_centers_)"
   ]
  },
  {
   "cell_type": "code",
   "execution_count": null,
   "metadata": {
    "collapsed": false
   },
   "outputs": [],
   "source": [
    "cluster_dict = {}\n",
    "cluster_key = argsort(cluster_tsne[:,0])"
   ]
  },
  {
   "cell_type": "code",
   "execution_count": null,
   "metadata": {
    "collapsed": false
   },
   "outputs": [],
   "source": [
    "cluster_key = argsort(cluster_tsne[:,0])\n",
    "ordered_clusters = [] \n",
    "for cluster in clusters:\n",
    "    ordered_clusters.append(cluster_key[cluster])"
   ]
  },
  {
   "cell_type": "code",
   "execution_count": null,
   "metadata": {
    "collapsed": true
   },
   "outputs": [],
   "source": [
    "data_features = pd.DataFrame({\"image.paths\" : image_paths})\n",
    "data_features[\"ordered.clusters\"] = ordered_clusters\n",
    "data_features[\"clust.dist\"] = \"\""
   ]
  },
  {
   "cell_type": "markdown",
   "metadata": {},
   "source": [
    "#Apply tsne for each cluster"
   ]
  },
  {
   "cell_type": "code",
   "execution_count": null,
   "metadata": {
    "collapsed": false
   },
   "outputs": [],
   "source": [
    "for cluster in range(num_clusters):\n",
    "    clust_indx = squeeze(argwhere(array(ordered_clusters) == cluster))\n",
    "    X_cluster = X[clust_indx,:]\n",
    "    data_features.loc[clust_indx,\"clust.dist\"] = rint(100*tsne.fit_transform(X_cluster))"
   ]
  },
  {
   "cell_type": "code",
   "execution_count": null,
   "metadata": {
    "collapsed": false
   },
   "outputs": [],
   "source": [
    "data_features.to_csv(\"../results/Rothko-KMEANStsne-HOG-color.csv\", index = False, header = False)"
   ]
  },
  {
   "cell_type": "code",
   "execution_count": null,
   "metadata": {
    "collapsed": true
   },
   "outputs": [],
   "source": []
  }
 ],
 "metadata": {
  "kernelspec": {
   "display_name": "Python 2",
   "language": "python",
   "name": "python2"
  },
  "language_info": {
   "codemirror_mode": {
    "name": "ipython",
    "version": 2
   },
   "file_extension": ".py",
   "mimetype": "text/x-python",
   "name": "python",
   "nbconvert_exporter": "python",
   "pygments_lexer": "ipython2",
   "version": "2.7.10"
  }
 },
 "nbformat": 4,
 "nbformat_minor": 0
}
